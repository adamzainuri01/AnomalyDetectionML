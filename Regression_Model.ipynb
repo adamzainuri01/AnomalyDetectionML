{
 "cells": [
  {
   "cell_type": "code",
   "execution_count": 1,
   "outputs": [
    {
     "name": "stdout",
     "output_type": "stream",
     "text": [
      "time: 0 ns (started: 2022-12-22 04:05:04 +07:00)\n"
     ]
    }
   ],
   "source": [
    "%load_ext autotime"
   ],
   "metadata": {
    "collapsed": false
   }
  },
  {
   "cell_type": "code",
   "execution_count": 2,
   "metadata": {
    "collapsed": true
   },
   "outputs": [
    {
     "name": "stdout",
     "output_type": "stream",
     "text": [
      "time: 0 ns (started: 2022-12-22 04:05:04 +07:00)\n"
     ]
    }
   ],
   "source": [
    "import pandas as pd\n",
    "\n",
    "import numpy as np\n",
    "\n",
    "import warnings\n",
    "warnings.filterwarnings(\"ignore\")"
   ]
  },
  {
   "cell_type": "markdown",
   "source": [
    "# DATASET"
   ],
   "metadata": {
    "collapsed": false
   }
  },
  {
   "cell_type": "code",
   "execution_count": 3,
   "outputs": [
    {
     "data": {
      "text/plain": "   Wellhead Temp. (C)  Wellhead Press (psi)  MMCFD- gas  \\\n0               53.35               1105.13       12.87   \n1               72.25               1026.31        3.42   \n2               65.08                722.96        6.23   \n3               60.71               1557.23       11.71   \n4               46.19               1304.42        8.58   \n\n   BOPD (barrel of oil produced per day)  \\\n0                                1378.93   \n1                                1028.75   \n2                                2017.92   \n3                                 558.22   \n4                                1280.47   \n\n   BWPD (barrel of water produced per day)  BSW - basic solid and water (%)  \\\n0                                  2812.62                            75.64   \n1                                   919.92                            44.21   \n2                                  1212.42                            17.55   \n3                                  1716.09                            65.79   \n4                                  1929.22                            37.45   \n\n   CO2 mol. (%) @ 25 C & 1 Atm.  Gas Grav.  CR-corrosion defect  \n0                        3.3628     0.7205               0.2245  \n1                        3.8679     0.8940               0.2262  \n2                        2.3552     0.7661               0.2305  \n3                        1.7253     0.7738               0.2303  \n4                        1.8327     0.7611               0.2202  ",
      "text/html": "<div>\n<style scoped>\n    .dataframe tbody tr th:only-of-type {\n        vertical-align: middle;\n    }\n\n    .dataframe tbody tr th {\n        vertical-align: top;\n    }\n\n    .dataframe thead th {\n        text-align: right;\n    }\n</style>\n<table border=\"1\" class=\"dataframe\">\n  <thead>\n    <tr style=\"text-align: right;\">\n      <th></th>\n      <th>Wellhead Temp. (C)</th>\n      <th>Wellhead Press (psi)</th>\n      <th>MMCFD- gas</th>\n      <th>BOPD (barrel of oil produced per day)</th>\n      <th>BWPD (barrel of water produced per day)</th>\n      <th>BSW - basic solid and water (%)</th>\n      <th>CO2 mol. (%) @ 25 C &amp; 1 Atm.</th>\n      <th>Gas Grav.</th>\n      <th>CR-corrosion defect</th>\n    </tr>\n  </thead>\n  <tbody>\n    <tr>\n      <th>0</th>\n      <td>53.35</td>\n      <td>1105.13</td>\n      <td>12.87</td>\n      <td>1378.93</td>\n      <td>2812.62</td>\n      <td>75.64</td>\n      <td>3.3628</td>\n      <td>0.7205</td>\n      <td>0.2245</td>\n    </tr>\n    <tr>\n      <th>1</th>\n      <td>72.25</td>\n      <td>1026.31</td>\n      <td>3.42</td>\n      <td>1028.75</td>\n      <td>919.92</td>\n      <td>44.21</td>\n      <td>3.8679</td>\n      <td>0.8940</td>\n      <td>0.2262</td>\n    </tr>\n    <tr>\n      <th>2</th>\n      <td>65.08</td>\n      <td>722.96</td>\n      <td>6.23</td>\n      <td>2017.92</td>\n      <td>1212.42</td>\n      <td>17.55</td>\n      <td>2.3552</td>\n      <td>0.7661</td>\n      <td>0.2305</td>\n    </tr>\n    <tr>\n      <th>3</th>\n      <td>60.71</td>\n      <td>1557.23</td>\n      <td>11.71</td>\n      <td>558.22</td>\n      <td>1716.09</td>\n      <td>65.79</td>\n      <td>1.7253</td>\n      <td>0.7738</td>\n      <td>0.2303</td>\n    </tr>\n    <tr>\n      <th>4</th>\n      <td>46.19</td>\n      <td>1304.42</td>\n      <td>8.58</td>\n      <td>1280.47</td>\n      <td>1929.22</td>\n      <td>37.45</td>\n      <td>1.8327</td>\n      <td>0.7611</td>\n      <td>0.2202</td>\n    </tr>\n  </tbody>\n</table>\n</div>"
     },
     "execution_count": 3,
     "metadata": {},
     "output_type": "execute_result"
    },
    {
     "name": "stdout",
     "output_type": "stream",
     "text": [
      "time: 32 ms (started: 2022-12-22 04:05:04 +07:00)\n"
     ]
    }
   ],
   "source": [
    "df = pd.read_csv(\"generated_dataset.csv\")\n",
    "df.head(5)"
   ],
   "metadata": {
    "collapsed": false
   }
  },
  {
   "cell_type": "markdown",
   "source": [
    "# TARGET AND FEATURES SPLIT"
   ],
   "metadata": {
    "collapsed": false
   }
  },
  {
   "cell_type": "code",
   "execution_count": 4,
   "outputs": [
    {
     "name": "stdout",
     "output_type": "stream",
     "text": [
      "time: 0 ns (started: 2022-12-22 04:05:04 +07:00)\n"
     ]
    }
   ],
   "source": [
    "target = df['CR-corrosion defect']\n",
    "features = df.drop('CR-corrosion defect', axis=1)"
   ],
   "metadata": {
    "collapsed": false
   }
  },
  {
   "cell_type": "code",
   "execution_count": 5,
   "outputs": [
    {
     "name": "stdout",
     "output_type": "stream",
     "text": [
      "time: 0 ns (started: 2022-12-22 04:05:04 +07:00)\n"
     ]
    }
   ],
   "source": [
    "CR_level = []\n",
    "for row in df['CR-corrosion defect']:\n",
    "    if row <= 0.211: CR_level.append('Low')\n",
    "    if row > 0.211: CR_level.append('High')\n",
    "\n",
    "stratify = pd.DataFrame(CR_level)"
   ],
   "metadata": {
    "collapsed": false
   }
  },
  {
   "cell_type": "markdown",
   "source": [
    "# TRAIN TEST SPLIT"
   ],
   "metadata": {
    "collapsed": false
   }
  },
  {
   "cell_type": "code",
   "execution_count": 6,
   "outputs": [
    {
     "name": "stdout",
     "output_type": "stream",
     "text": [
      "time: 265 ms (started: 2022-12-22 04:05:04 +07:00)\n"
     ]
    }
   ],
   "source": [
    "from sklearn.model_selection import train_test_split\n",
    "\n",
    "Xtrain, Xtest, ytrain, ytest = train_test_split(features, target, test_size=0.25, random_state=42, stratify=stratify)"
   ],
   "metadata": {
    "collapsed": false
   }
  },
  {
   "cell_type": "markdown",
   "source": [
    "# DATA NORMALIZATION"
   ],
   "metadata": {
    "collapsed": false
   }
  },
  {
   "cell_type": "code",
   "execution_count": 7,
   "outputs": [
    {
     "name": "stdout",
     "output_type": "stream",
     "text": [
      "time: 16 ms (started: 2022-12-22 04:05:05 +07:00)\n"
     ]
    }
   ],
   "source": [
    "from sklearn.preprocessing import MinMaxScaler\n",
    "\n",
    "scaler = MinMaxScaler()\n",
    "\n",
    "Xtrain_scaled = scaler.fit_transform(Xtrain)\n",
    "Xtest_scaled = scaler.transform(Xtest)"
   ],
   "metadata": {
    "collapsed": false
   }
  },
  {
   "cell_type": "code",
   "execution_count": 8,
   "outputs": [
    {
     "name": "stdout",
     "output_type": "stream",
     "text": [
      "time: 0 ns (started: 2022-12-22 04:05:05 +07:00)\n"
     ]
    }
   ],
   "source": [
    "col_names = ['Wellhead Temp. (C)', 'Wellhead Press (psi)', 'MMCFD- gas', 'BOPD (barrel of oil produced per day', 'BWPD (barrel of water produced per day', 'BSW - basic solid and water (%)', 'CO2 mol. (%) @ 25 C & 1 Atm.', 'Gas Grav.']"
   ],
   "metadata": {
    "collapsed": false
   }
  },
  {
   "cell_type": "code",
   "execution_count": 9,
   "outputs": [
    {
     "name": "stdout",
     "output_type": "stream",
     "text": [
      "time: 0 ns (started: 2022-12-22 04:05:05 +07:00)\n"
     ]
    }
   ],
   "source": [
    "Xtrain_scaled = pd.DataFrame(data = Xtrain_scaled, columns = col_names)\n",
    "Xtest_scaled = pd.DataFrame(data = Xtest_scaled, columns = col_names)"
   ],
   "metadata": {
    "collapsed": false
   }
  },
  {
   "cell_type": "code",
   "execution_count": 10,
   "outputs": [
    {
     "data": {
      "text/plain": "      Wellhead Temp. (C)  Wellhead Press (psi)  MMCFD- gas  \\\n0               0.950915              0.052967    0.783940   \n1               0.087805              0.327101    0.764298   \n2               0.402439              0.770111    0.512998   \n3               0.313720              0.328202    0.228769   \n4               0.775305              0.749275    0.518775   \n...                  ...                   ...         ...   \n7714            0.053354              0.188394    0.181976   \n7715            0.750000              0.399860    0.211438   \n7716            0.308841              0.099724    0.619873   \n7717            0.628354              0.376369    0.166378   \n7718            0.429573              0.357967    0.028885   \n\n      BOPD (barrel of oil produced per day  \\\n0                                 0.727889   \n1                                 0.804252   \n2                                 0.750716   \n3                                 0.714967   \n4                                 0.433478   \n...                                    ...   \n7714                              0.988303   \n7715                              0.633808   \n7716                              0.317734   \n7717                              0.310409   \n7718                              0.748019   \n\n      BWPD (barrel of water produced per day  BSW - basic solid and water (%)  \\\n0                                   0.239421                         0.134971   \n1                                   0.246465                         0.001346   \n2                                   0.108114                         0.891507   \n3                                   0.804792                         0.076742   \n4                                   0.964242                         0.210030   \n...                                      ...                              ...   \n7714                                0.376989                         0.009985   \n7715                                0.882921                         0.097722   \n7716                                0.017887                         0.094693   \n7717                                0.566533                         0.486144   \n7718                                0.052187                         0.465612   \n\n      CO2 mol. (%) @ 25 C & 1 Atm.  Gas Grav.  \n0                         0.548182   0.711957  \n1                         0.683888   0.376359  \n2                         0.520693   0.718750  \n3                         0.290032   0.649457  \n4                         0.062051   0.348279  \n...                            ...        ...  \n7714                      0.525279   0.610960  \n7715                      0.724942   0.221014  \n7716                      0.522793   0.305707  \n7717                      0.166455   0.784420  \n7718                      0.066858   0.031703  \n\n[7719 rows x 8 columns]",
      "text/html": "<div>\n<style scoped>\n    .dataframe tbody tr th:only-of-type {\n        vertical-align: middle;\n    }\n\n    .dataframe tbody tr th {\n        vertical-align: top;\n    }\n\n    .dataframe thead th {\n        text-align: right;\n    }\n</style>\n<table border=\"1\" class=\"dataframe\">\n  <thead>\n    <tr style=\"text-align: right;\">\n      <th></th>\n      <th>Wellhead Temp. (C)</th>\n      <th>Wellhead Press (psi)</th>\n      <th>MMCFD- gas</th>\n      <th>BOPD (barrel of oil produced per day</th>\n      <th>BWPD (barrel of water produced per day</th>\n      <th>BSW - basic solid and water (%)</th>\n      <th>CO2 mol. (%) @ 25 C &amp; 1 Atm.</th>\n      <th>Gas Grav.</th>\n    </tr>\n  </thead>\n  <tbody>\n    <tr>\n      <th>0</th>\n      <td>0.950915</td>\n      <td>0.052967</td>\n      <td>0.783940</td>\n      <td>0.727889</td>\n      <td>0.239421</td>\n      <td>0.134971</td>\n      <td>0.548182</td>\n      <td>0.711957</td>\n    </tr>\n    <tr>\n      <th>1</th>\n      <td>0.087805</td>\n      <td>0.327101</td>\n      <td>0.764298</td>\n      <td>0.804252</td>\n      <td>0.246465</td>\n      <td>0.001346</td>\n      <td>0.683888</td>\n      <td>0.376359</td>\n    </tr>\n    <tr>\n      <th>2</th>\n      <td>0.402439</td>\n      <td>0.770111</td>\n      <td>0.512998</td>\n      <td>0.750716</td>\n      <td>0.108114</td>\n      <td>0.891507</td>\n      <td>0.520693</td>\n      <td>0.718750</td>\n    </tr>\n    <tr>\n      <th>3</th>\n      <td>0.313720</td>\n      <td>0.328202</td>\n      <td>0.228769</td>\n      <td>0.714967</td>\n      <td>0.804792</td>\n      <td>0.076742</td>\n      <td>0.290032</td>\n      <td>0.649457</td>\n    </tr>\n    <tr>\n      <th>4</th>\n      <td>0.775305</td>\n      <td>0.749275</td>\n      <td>0.518775</td>\n      <td>0.433478</td>\n      <td>0.964242</td>\n      <td>0.210030</td>\n      <td>0.062051</td>\n      <td>0.348279</td>\n    </tr>\n    <tr>\n      <th>...</th>\n      <td>...</td>\n      <td>...</td>\n      <td>...</td>\n      <td>...</td>\n      <td>...</td>\n      <td>...</td>\n      <td>...</td>\n      <td>...</td>\n    </tr>\n    <tr>\n      <th>7714</th>\n      <td>0.053354</td>\n      <td>0.188394</td>\n      <td>0.181976</td>\n      <td>0.988303</td>\n      <td>0.376989</td>\n      <td>0.009985</td>\n      <td>0.525279</td>\n      <td>0.610960</td>\n    </tr>\n    <tr>\n      <th>7715</th>\n      <td>0.750000</td>\n      <td>0.399860</td>\n      <td>0.211438</td>\n      <td>0.633808</td>\n      <td>0.882921</td>\n      <td>0.097722</td>\n      <td>0.724942</td>\n      <td>0.221014</td>\n    </tr>\n    <tr>\n      <th>7716</th>\n      <td>0.308841</td>\n      <td>0.099724</td>\n      <td>0.619873</td>\n      <td>0.317734</td>\n      <td>0.017887</td>\n      <td>0.094693</td>\n      <td>0.522793</td>\n      <td>0.305707</td>\n    </tr>\n    <tr>\n      <th>7717</th>\n      <td>0.628354</td>\n      <td>0.376369</td>\n      <td>0.166378</td>\n      <td>0.310409</td>\n      <td>0.566533</td>\n      <td>0.486144</td>\n      <td>0.166455</td>\n      <td>0.784420</td>\n    </tr>\n    <tr>\n      <th>7718</th>\n      <td>0.429573</td>\n      <td>0.357967</td>\n      <td>0.028885</td>\n      <td>0.748019</td>\n      <td>0.052187</td>\n      <td>0.465612</td>\n      <td>0.066858</td>\n      <td>0.031703</td>\n    </tr>\n  </tbody>\n</table>\n<p>7719 rows × 8 columns</p>\n</div>"
     },
     "execution_count": 10,
     "metadata": {},
     "output_type": "execute_result"
    },
    {
     "name": "stdout",
     "output_type": "stream",
     "text": [
      "time: 16 ms (started: 2022-12-22 04:05:05 +07:00)\n"
     ]
    }
   ],
   "source": [
    "Xtrain_scaled"
   ],
   "metadata": {
    "collapsed": false
   }
  },
  {
   "cell_type": "markdown",
   "source": [
    "# OUTLIER DETECTION - ISOLATION FOREST"
   ],
   "metadata": {
    "collapsed": false
   }
  },
  {
   "cell_type": "code",
   "execution_count": 11,
   "outputs": [
    {
     "data": {
      "text/plain": "IsolationForest(contamination=0.05, n_estimators=200)"
     },
     "execution_count": 11,
     "metadata": {},
     "output_type": "execute_result"
    },
    {
     "name": "stdout",
     "output_type": "stream",
     "text": [
      "time: 750 ms (started: 2022-12-22 04:05:05 +07:00)\n"
     ]
    }
   ],
   "source": [
    "from sklearn.ensemble import IsolationForest\n",
    "\n",
    "isol =  IsolationForest(n_estimators=200 ,contamination = 0.05)\n",
    "\n",
    "isol.fit(Xtrain_scaled)"
   ],
   "metadata": {
    "collapsed": false
   }
  },
  {
   "cell_type": "code",
   "execution_count": 12,
   "outputs": [
    {
     "name": "stdout",
     "output_type": "stream",
     "text": [
      "time: 375 ms (started: 2022-12-22 04:05:05 +07:00)\n"
     ]
    }
   ],
   "source": [
    "Xtrain_predict = isol.predict(Xtrain_scaled)\n",
    "\n",
    "Xtrain_scaled['Predict'] = Xtrain_predict\n",
    "\n",
    "Xtrain_scaled['Predict'] = Xtrain_scaled['Predict'].astype('category')"
   ],
   "metadata": {
    "collapsed": false
   }
  },
  {
   "cell_type": "code",
   "execution_count": 13,
   "outputs": [
    {
     "name": "stdout",
     "output_type": "stream",
     "text": [
      "time: 0 ns (started: 2022-12-22 04:05:06 +07:00)\n"
     ]
    }
   ],
   "source": [
    "ytrain = pd.DataFrame(data = ytrain, columns = ['CR-corrosion defect'])\n",
    "ytrain['Predict'] = Xtrain_predict"
   ],
   "metadata": {
    "collapsed": false
   }
  },
  {
   "cell_type": "code",
   "execution_count": 14,
   "outputs": [
    {
     "name": "stdout",
     "output_type": "stream",
     "text": [
      "time: 0 ns (started: 2022-12-22 04:05:06 +07:00)\n"
     ]
    }
   ],
   "source": [
    "Xtrain_scaled = Xtrain_scaled[Xtrain_scaled.Predict != -1]\n",
    "ytrain = ytrain[ytrain.Predict != -1]\n",
    "\n",
    "Xtrain_scaled = Xtrain_scaled.drop('Predict', axis=1)\n",
    "ytrain =ytrain.drop('Predict', axis=1)"
   ],
   "metadata": {
    "collapsed": false
   }
  },
  {
   "cell_type": "code",
   "execution_count": 15,
   "outputs": [
    {
     "name": "stdout",
     "output_type": "stream",
     "text": [
      "time: 0 ns (started: 2022-12-22 04:05:06 +07:00)\n"
     ]
    }
   ],
   "source": [
    "ytrain = np.ravel(ytrain)"
   ],
   "metadata": {
    "collapsed": false
   }
  },
  {
   "cell_type": "markdown",
   "source": [
    "# OUTLIER DETECTION - ONE CLASS SVM"
   ],
   "metadata": {
    "collapsed": false
   }
  },
  {
   "cell_type": "code",
   "execution_count": 16,
   "outputs": [
    {
     "name": "stdout",
     "output_type": "stream",
     "text": [
      "time: 156 ms (started: 2022-12-22 04:05:06 +07:00)\n"
     ]
    }
   ],
   "source": [
    "from sklearn.svm import OneClassSVM\n",
    "\n",
    "ee = OneClassSVM(nu=0.01)\n",
    "yhat = ee.fit_predict(Xtrain_scaled)"
   ],
   "metadata": {
    "collapsed": false
   }
  },
  {
   "cell_type": "code",
   "execution_count": 17,
   "outputs": [
    {
     "name": "stdout",
     "output_type": "stream",
     "text": [
      "time: 0 ns (started: 2022-12-22 04:05:06 +07:00)\n"
     ]
    }
   ],
   "source": [
    "Xtrain_scaled['yhat'] = yhat"
   ],
   "metadata": {
    "collapsed": false
   }
  },
  {
   "cell_type": "code",
   "execution_count": 18,
   "outputs": [
    {
     "name": "stdout",
     "output_type": "stream",
     "text": [
      "time: 0 ns (started: 2022-12-22 04:05:06 +07:00)\n"
     ]
    }
   ],
   "source": [
    "ytrain = pd.DataFrame(data = ytrain, columns = ['CR-corrosion defect'])\n",
    "ytrain['yhat'] = yhat"
   ],
   "metadata": {
    "collapsed": false
   }
  },
  {
   "cell_type": "code",
   "execution_count": 19,
   "outputs": [
    {
     "name": "stdout",
     "output_type": "stream",
     "text": [
      "time: 0 ns (started: 2022-12-22 04:05:06 +07:00)\n"
     ]
    }
   ],
   "source": [
    "Xtrain_scaled = Xtrain_scaled[Xtrain_scaled.yhat != -1]\n",
    "ytrain = ytrain[ytrain.yhat != -1]\n",
    "\n",
    "Xtrain_scaled = Xtrain_scaled.drop('yhat', axis=1)\n",
    "ytrain =ytrain.drop('yhat', axis=1)"
   ],
   "metadata": {
    "collapsed": false
   }
  },
  {
   "cell_type": "code",
   "execution_count": 20,
   "outputs": [
    {
     "name": "stdout",
     "output_type": "stream",
     "text": [
      "time: 0 ns (started: 2022-12-22 04:05:06 +07:00)\n"
     ]
    }
   ],
   "source": [
    "ytrain = np.ravel(ytrain)"
   ],
   "metadata": {
    "collapsed": false
   }
  },
  {
   "cell_type": "code",
   "execution_count": 21,
   "outputs": [
    {
     "data": {
      "text/plain": "      Wellhead Temp. (C)  Wellhead Press (psi)  MMCFD- gas  \\\n0               0.950915              0.052967    0.783940   \n1               0.087805              0.327101    0.764298   \n2               0.402439              0.770111    0.512998   \n3               0.313720              0.328202    0.228769   \n4               0.775305              0.749275    0.518775   \n...                  ...                   ...         ...   \n7714            0.053354              0.188394    0.181976   \n7715            0.750000              0.399860    0.211438   \n7716            0.308841              0.099724    0.619873   \n7717            0.628354              0.376369    0.166378   \n7718            0.429573              0.357967    0.028885   \n\n      BOPD (barrel of oil produced per day  \\\n0                                 0.727889   \n1                                 0.804252   \n2                                 0.750716   \n3                                 0.714967   \n4                                 0.433478   \n...                                    ...   \n7714                              0.988303   \n7715                              0.633808   \n7716                              0.317734   \n7717                              0.310409   \n7718                              0.748019   \n\n      BWPD (barrel of water produced per day  BSW - basic solid and water (%)  \\\n0                                   0.239421                         0.134971   \n1                                   0.246465                         0.001346   \n2                                   0.108114                         0.891507   \n3                                   0.804792                         0.076742   \n4                                   0.964242                         0.210030   \n...                                      ...                              ...   \n7714                                0.376989                         0.009985   \n7715                                0.882921                         0.097722   \n7716                                0.017887                         0.094693   \n7717                                0.566533                         0.486144   \n7718                                0.052187                         0.465612   \n\n      CO2 mol. (%) @ 25 C & 1 Atm.  Gas Grav.  \n0                         0.548182   0.711957  \n1                         0.683888   0.376359  \n2                         0.520693   0.718750  \n3                         0.290032   0.649457  \n4                         0.062051   0.348279  \n...                            ...        ...  \n7714                      0.525279   0.610960  \n7715                      0.724942   0.221014  \n7716                      0.522793   0.305707  \n7717                      0.166455   0.784420  \n7718                      0.066858   0.031703  \n\n[7249 rows x 8 columns]",
      "text/html": "<div>\n<style scoped>\n    .dataframe tbody tr th:only-of-type {\n        vertical-align: middle;\n    }\n\n    .dataframe tbody tr th {\n        vertical-align: top;\n    }\n\n    .dataframe thead th {\n        text-align: right;\n    }\n</style>\n<table border=\"1\" class=\"dataframe\">\n  <thead>\n    <tr style=\"text-align: right;\">\n      <th></th>\n      <th>Wellhead Temp. (C)</th>\n      <th>Wellhead Press (psi)</th>\n      <th>MMCFD- gas</th>\n      <th>BOPD (barrel of oil produced per day</th>\n      <th>BWPD (barrel of water produced per day</th>\n      <th>BSW - basic solid and water (%)</th>\n      <th>CO2 mol. (%) @ 25 C &amp; 1 Atm.</th>\n      <th>Gas Grav.</th>\n    </tr>\n  </thead>\n  <tbody>\n    <tr>\n      <th>0</th>\n      <td>0.950915</td>\n      <td>0.052967</td>\n      <td>0.783940</td>\n      <td>0.727889</td>\n      <td>0.239421</td>\n      <td>0.134971</td>\n      <td>0.548182</td>\n      <td>0.711957</td>\n    </tr>\n    <tr>\n      <th>1</th>\n      <td>0.087805</td>\n      <td>0.327101</td>\n      <td>0.764298</td>\n      <td>0.804252</td>\n      <td>0.246465</td>\n      <td>0.001346</td>\n      <td>0.683888</td>\n      <td>0.376359</td>\n    </tr>\n    <tr>\n      <th>2</th>\n      <td>0.402439</td>\n      <td>0.770111</td>\n      <td>0.512998</td>\n      <td>0.750716</td>\n      <td>0.108114</td>\n      <td>0.891507</td>\n      <td>0.520693</td>\n      <td>0.718750</td>\n    </tr>\n    <tr>\n      <th>3</th>\n      <td>0.313720</td>\n      <td>0.328202</td>\n      <td>0.228769</td>\n      <td>0.714967</td>\n      <td>0.804792</td>\n      <td>0.076742</td>\n      <td>0.290032</td>\n      <td>0.649457</td>\n    </tr>\n    <tr>\n      <th>4</th>\n      <td>0.775305</td>\n      <td>0.749275</td>\n      <td>0.518775</td>\n      <td>0.433478</td>\n      <td>0.964242</td>\n      <td>0.210030</td>\n      <td>0.062051</td>\n      <td>0.348279</td>\n    </tr>\n    <tr>\n      <th>...</th>\n      <td>...</td>\n      <td>...</td>\n      <td>...</td>\n      <td>...</td>\n      <td>...</td>\n      <td>...</td>\n      <td>...</td>\n      <td>...</td>\n    </tr>\n    <tr>\n      <th>7714</th>\n      <td>0.053354</td>\n      <td>0.188394</td>\n      <td>0.181976</td>\n      <td>0.988303</td>\n      <td>0.376989</td>\n      <td>0.009985</td>\n      <td>0.525279</td>\n      <td>0.610960</td>\n    </tr>\n    <tr>\n      <th>7715</th>\n      <td>0.750000</td>\n      <td>0.399860</td>\n      <td>0.211438</td>\n      <td>0.633808</td>\n      <td>0.882921</td>\n      <td>0.097722</td>\n      <td>0.724942</td>\n      <td>0.221014</td>\n    </tr>\n    <tr>\n      <th>7716</th>\n      <td>0.308841</td>\n      <td>0.099724</td>\n      <td>0.619873</td>\n      <td>0.317734</td>\n      <td>0.017887</td>\n      <td>0.094693</td>\n      <td>0.522793</td>\n      <td>0.305707</td>\n    </tr>\n    <tr>\n      <th>7717</th>\n      <td>0.628354</td>\n      <td>0.376369</td>\n      <td>0.166378</td>\n      <td>0.310409</td>\n      <td>0.566533</td>\n      <td>0.486144</td>\n      <td>0.166455</td>\n      <td>0.784420</td>\n    </tr>\n    <tr>\n      <th>7718</th>\n      <td>0.429573</td>\n      <td>0.357967</td>\n      <td>0.028885</td>\n      <td>0.748019</td>\n      <td>0.052187</td>\n      <td>0.465612</td>\n      <td>0.066858</td>\n      <td>0.031703</td>\n    </tr>\n  </tbody>\n</table>\n<p>7249 rows × 8 columns</p>\n</div>"
     },
     "execution_count": 21,
     "metadata": {},
     "output_type": "execute_result"
    },
    {
     "name": "stdout",
     "output_type": "stream",
     "text": [
      "time: 15 ms (started: 2022-12-22 04:05:06 +07:00)\n"
     ]
    }
   ],
   "source": [
    "Xtrain_scaled"
   ],
   "metadata": {
    "collapsed": false
   }
  },
  {
   "cell_type": "markdown",
   "source": [
    "# PCA"
   ],
   "metadata": {
    "collapsed": false
   }
  },
  {
   "cell_type": "code",
   "execution_count": 22,
   "outputs": [
    {
     "name": "stdout",
     "output_type": "stream",
     "text": [
      "time: 0 ns (started: 2022-12-22 04:05:06 +07:00)\n"
     ]
    }
   ],
   "source": [
    "from sklearn.decomposition import PCA\n",
    "\n",
    "pca = PCA(.95)"
   ],
   "metadata": {
    "collapsed": false
   }
  },
  {
   "cell_type": "code",
   "execution_count": 23,
   "outputs": [
    {
     "data": {
      "text/plain": "PCA(n_components=0.95)"
     },
     "execution_count": 23,
     "metadata": {},
     "output_type": "execute_result"
    },
    {
     "name": "stdout",
     "output_type": "stream",
     "text": [
      "time: 109 ms (started: 2022-12-22 04:05:06 +07:00)\n"
     ]
    }
   ],
   "source": [
    "pca.fit(Xtrain_scaled)"
   ],
   "metadata": {
    "collapsed": false
   }
  },
  {
   "cell_type": "code",
   "execution_count": 24,
   "outputs": [
    {
     "name": "stdout",
     "output_type": "stream",
     "text": [
      "time: 15 ms (started: 2022-12-22 04:05:06 +07:00)\n"
     ]
    }
   ],
   "source": [
    "Xtrain_scaled = pca.transform(Xtrain_scaled)\n",
    "Xtest_scaled = pca.transform(Xtest_scaled)"
   ],
   "metadata": {
    "collapsed": false
   }
  },
  {
   "cell_type": "code",
   "execution_count": 25,
   "outputs": [
    {
     "data": {
      "text/plain": "array([[-0.17104783,  0.35649565, -0.59581518, ..., -0.30015827,\n        -0.01194728, -0.05066918],\n       [-0.19496312,  0.03544075,  0.03277535, ...,  0.13079242,\n        -0.02027461,  0.28514959],\n       [ 0.51014456,  0.18111118, -0.00663192, ...,  0.0327648 ,\n        -0.18293824,  0.06171103],\n       ...,\n       [-0.05946758, -0.13195808, -0.03939725, ..., -0.17780039,\n         0.37994047, -0.07359206],\n       [ 0.11693532,  0.12150788, -0.16814899, ...,  0.053175  ,\n         0.41961212, -0.02417697],\n       [-0.01232195,  0.12657166, -0.00248695, ...,  0.4391955 ,\n         0.49064684, -0.50036315]])"
     },
     "execution_count": 25,
     "metadata": {},
     "output_type": "execute_result"
    },
    {
     "name": "stdout",
     "output_type": "stream",
     "text": [
      "time: 0 ns (started: 2022-12-22 04:05:06 +07:00)\n"
     ]
    }
   ],
   "source": [
    "Xtrain_scaled"
   ],
   "metadata": {
    "collapsed": false
   }
  },
  {
   "cell_type": "markdown",
   "source": [
    "# LINEAR REGRESSION (ELASTIC NET)"
   ],
   "metadata": {
    "collapsed": false
   }
  },
  {
   "cell_type": "code",
   "execution_count": 26,
   "outputs": [
    {
     "data": {
      "text/plain": "ElasticNet()"
     },
     "execution_count": 26,
     "metadata": {},
     "output_type": "execute_result"
    },
    {
     "name": "stdout",
     "output_type": "stream",
     "text": [
      "time: 15 ms (started: 2022-12-22 04:05:06 +07:00)\n"
     ]
    }
   ],
   "source": [
    "from sklearn.linear_model import ElasticNet\n",
    "\n",
    "en = ElasticNet()\n",
    "en.fit(Xtrain_scaled, ytrain)"
   ],
   "metadata": {
    "collapsed": false
   }
  },
  {
   "cell_type": "markdown",
   "source": [
    "## K-CROSS VALIDATOR - ELASTIC NET"
   ],
   "metadata": {
    "collapsed": false
   }
  },
  {
   "cell_type": "code",
   "execution_count": 27,
   "outputs": [
    {
     "name": "stdout",
     "output_type": "stream",
     "text": [
      "time: 0 ns (started: 2022-12-22 04:05:06 +07:00)\n"
     ]
    }
   ],
   "source": [
    "from sklearn.model_selection import KFold\n",
    "\n",
    "cv = KFold(n_splits=3, shuffle = True, random_state=125)"
   ],
   "metadata": {
    "collapsed": false
   }
  },
  {
   "cell_type": "code",
   "execution_count": 28,
   "outputs": [
    {
     "name": "stdout",
     "output_type": "stream",
     "text": [
      "time: 0 ns (started: 2022-12-22 04:05:06 +07:00)\n"
     ]
    }
   ],
   "source": [
    "from sklearn.model_selection import RandomizedSearchCV\n",
    "\n",
    "param_grid_en = {'alpha': [1e-5, 1e-4, 1e-3, 1e-2, 1e-1, 0.0, 1.0, 10.0, 100.0], 'l1_ratio': np.arange(0, 1, 0.01)}\n",
    "grid_en = RandomizedSearchCV(en, param_grid_en, cv=cv, n_iter=200, n_jobs=-1)"
   ],
   "metadata": {
    "collapsed": false
   }
  },
  {
   "cell_type": "code",
   "execution_count": 29,
   "outputs": [
    {
     "data": {
      "text/plain": "RandomizedSearchCV(cv=KFold(n_splits=3, random_state=125, shuffle=True),\n                   estimator=ElasticNet(), n_iter=200, n_jobs=-1,\n                   param_distributions={'alpha': [1e-05, 0.0001, 0.001, 0.01,\n                                                  0.1, 0.0, 1.0, 10.0, 100.0],\n                                        'l1_ratio': array([0.  , 0.01, 0.02, 0.03, 0.04, 0.05, 0.06, 0.07, 0.08, 0.09, 0.1 ,\n       0.11, 0.12, 0.13, 0.14, 0.15, 0.16, 0.17, 0.18, 0.19, 0.2 , 0.21,\n       0.22, 0.23, 0.24, 0.25, 0.26, 0.27, 0.28, 0.29, 0.3 , 0.31, 0.32,\n       0.33, 0.34, 0.35, 0.36, 0.37, 0.38, 0.39, 0.4 , 0.41, 0.42, 0.43,\n       0.44, 0.45, 0.46, 0.47, 0.48, 0.49, 0.5 , 0.51, 0.52, 0.53, 0.54,\n       0.55, 0.56, 0.57, 0.58, 0.59, 0.6 , 0.61, 0.62, 0.63, 0.64, 0.65,\n       0.66, 0.67, 0.68, 0.69, 0.7 , 0.71, 0.72, 0.73, 0.74, 0.75, 0.76,\n       0.77, 0.78, 0.79, 0.8 , 0.81, 0.82, 0.83, 0.84, 0.85, 0.86, 0.87,\n       0.88, 0.89, 0.9 , 0.91, 0.92, 0.93, 0.94, 0.95, 0.96, 0.97, 0.98,\n       0.99])})"
     },
     "execution_count": 29,
     "metadata": {},
     "output_type": "execute_result"
    },
    {
     "name": "stdout",
     "output_type": "stream",
     "text": [
      "time: 4.03 s (started: 2022-12-22 04:05:06 +07:00)\n"
     ]
    }
   ],
   "source": [
    "grid_en.fit(Xtrain_scaled, ytrain)"
   ],
   "metadata": {
    "collapsed": false
   }
  },
  {
   "cell_type": "code",
   "execution_count": 30,
   "outputs": [
    {
     "name": "stdout",
     "output_type": "stream",
     "text": [
      "time: 0 ns (started: 2022-12-22 04:05:10 +07:00)\n"
     ]
    }
   ],
   "source": [
    "alpha = grid_en.best_params_['alpha']\n",
    "l1_ratio = grid_en.best_params_['l1_ratio']"
   ],
   "metadata": {
    "collapsed": false
   }
  },
  {
   "cell_type": "code",
   "execution_count": 31,
   "outputs": [
    {
     "data": {
      "text/plain": "ElasticNet(alpha=0.0001, l1_ratio=0.08)"
     },
     "execution_count": 31,
     "metadata": {},
     "output_type": "execute_result"
    },
    {
     "name": "stdout",
     "output_type": "stream",
     "text": [
      "time: 0 ns (started: 2022-12-22 04:05:10 +07:00)\n"
     ]
    }
   ],
   "source": [
    "en_opt = ElasticNet(alpha=alpha, l1_ratio=l1_ratio)\n",
    "en_opt.fit(Xtrain_scaled, ytrain)"
   ],
   "metadata": {
    "collapsed": false
   }
  },
  {
   "cell_type": "code",
   "execution_count": 32,
   "outputs": [
    {
     "name": "stdout",
     "output_type": "stream",
     "text": [
      "time: 0 ns (started: 2022-12-22 04:05:10 +07:00)\n"
     ]
    }
   ],
   "source": [
    "prediction_en = en_opt.predict(Xtest_scaled)"
   ],
   "metadata": {
    "collapsed": false
   }
  },
  {
   "cell_type": "markdown",
   "source": [
    "## SCORE - ELASTIC NET"
   ],
   "metadata": {
    "collapsed": false
   }
  },
  {
   "cell_type": "code",
   "execution_count": 33,
   "outputs": [
    {
     "name": "stdout",
     "output_type": "stream",
     "text": [
      "Mean Absolute Error: 0.023310908951676278\n",
      "Mean Squared Error: 0.0010971032429847529\n",
      "Root Mean Squared Error: 0.03312254886002514\n",
      "time: 0 ns (started: 2022-12-22 04:05:10 +07:00)\n"
     ]
    }
   ],
   "source": [
    "from sklearn import metrics\n",
    "\n",
    "mae_en = metrics.mean_absolute_error(ytest, prediction_en)\n",
    "mse_en = metrics.mean_squared_error(ytest, prediction_en)\n",
    "rmse_en = np.sqrt(metrics.mean_squared_error(ytest, prediction_en))\n",
    "\n",
    "print('Mean Absolute Error:', metrics.mean_absolute_error(ytest, prediction_en))\n",
    "print('Mean Squared Error:', metrics.mean_squared_error(ytest, prediction_en))\n",
    "print('Root Mean Squared Error:', np.sqrt(metrics.mean_squared_error(ytest, prediction_en)))"
   ],
   "metadata": {
    "collapsed": false
   }
  },
  {
   "cell_type": "markdown",
   "source": [
    "# NEURAL NETWORK (MLP REGRESSOR)"
   ],
   "metadata": {
    "collapsed": false
   }
  },
  {
   "cell_type": "code",
   "execution_count": 34,
   "outputs": [
    {
     "data": {
      "text/plain": "MLPRegressor()"
     },
     "execution_count": 34,
     "metadata": {},
     "output_type": "execute_result"
    },
    {
     "name": "stdout",
     "output_type": "stream",
     "text": [
      "time: 437 ms (started: 2022-12-22 04:05:11 +07:00)\n"
     ]
    }
   ],
   "source": [
    "from sklearn.neural_network import MLPRegressor\n",
    "\n",
    "mlp = MLPRegressor()\n",
    "mlp.fit(Xtrain_scaled, ytrain)"
   ],
   "metadata": {
    "collapsed": false
   }
  },
  {
   "cell_type": "markdown",
   "source": [
    "## K-CROSS VALIDATOR - MLP"
   ],
   "metadata": {
    "collapsed": false
   }
  },
  {
   "cell_type": "code",
   "execution_count": 35,
   "outputs": [
    {
     "name": "stdout",
     "output_type": "stream",
     "text": [
      "time: 0 ns (started: 2022-12-22 04:05:11 +07:00)\n"
     ]
    }
   ],
   "source": [
    "param_grid_mlp = {'hidden_layer_sizes': [(50,50,50), (50,100,50), (100,)],\n",
    "                  'activation': ['tanh', 'relu'],\n",
    "                  'solver': ['sgd', 'adam'],\n",
    "                  'alpha': [0.0001, 0.05],\n",
    "                  'learning_rate': ['constant','adaptive']}\n",
    "grid_mlp = RandomizedSearchCV(mlp, param_grid_mlp, cv=cv, n_iter=200, n_jobs=-1)"
   ],
   "metadata": {
    "collapsed": false
   }
  },
  {
   "cell_type": "code",
   "execution_count": 36,
   "outputs": [
    {
     "data": {
      "text/plain": "RandomizedSearchCV(cv=KFold(n_splits=3, random_state=125, shuffle=True),\n                   estimator=MLPRegressor(), n_iter=200, n_jobs=-1,\n                   param_distributions={'activation': ['tanh', 'relu'],\n                                        'alpha': [0.0001, 0.05],\n                                        'hidden_layer_sizes': [(50, 50, 50),\n                                                               (50, 100, 50),\n                                                               (100,)],\n                                        'learning_rate': ['constant',\n                                                          'adaptive'],\n                                        'solver': ['sgd', 'adam']})"
     },
     "execution_count": 36,
     "metadata": {},
     "output_type": "execute_result"
    },
    {
     "name": "stdout",
     "output_type": "stream",
     "text": [
      "time: 26 s (started: 2022-12-22 04:05:11 +07:00)\n"
     ]
    }
   ],
   "source": [
    "grid_mlp.fit(Xtrain_scaled, ytrain)"
   ],
   "metadata": {
    "collapsed": false
   }
  },
  {
   "cell_type": "code",
   "execution_count": 72,
   "outputs": [
    {
     "name": "stdout",
     "output_type": "stream",
     "text": [
      "time: 0 ns (started: 2022-12-22 04:38:03 +07:00)\n"
     ]
    }
   ],
   "source": [
    "hidden_layer_sizes = grid_mlp.best_params_['hidden_layer_sizes']\n",
    "activation = grid_mlp.best_params_['activation']\n",
    "solver = grid_mlp.best_params_['solver']\n",
    "alpha = grid_mlp.best_params_['alpha']\n",
    "learning_rate = grid_mlp.best_params_['learning_rate']"
   ],
   "metadata": {
    "collapsed": false
   }
  },
  {
   "cell_type": "code",
   "execution_count": 38,
   "outputs": [
    {
     "data": {
      "text/plain": "MLPRegressor(hidden_layer_sizes=(50, 100, 50))"
     },
     "execution_count": 38,
     "metadata": {},
     "output_type": "execute_result"
    },
    {
     "name": "stdout",
     "output_type": "stream",
     "text": [
      "time: 750 ms (started: 2022-12-22 04:05:37 +07:00)\n"
     ]
    }
   ],
   "source": [
    "mlp_opt = MLPRegressor(hidden_layer_sizes=hidden_layer_sizes, activation=activation, solver=solver, alpha=alpha, learning_rate=learning_rate)\n",
    "mlp_opt.fit(Xtrain_scaled, ytrain)"
   ],
   "metadata": {
    "collapsed": false
   }
  },
  {
   "cell_type": "code",
   "execution_count": 39,
   "outputs": [
    {
     "name": "stdout",
     "output_type": "stream",
     "text": [
      "time: 0 ns (started: 2022-12-22 04:05:38 +07:00)\n"
     ]
    }
   ],
   "source": [
    "prediction_mlp = mlp_opt.predict(Xtest_scaled)"
   ],
   "metadata": {
    "collapsed": false
   }
  },
  {
   "cell_type": "markdown",
   "source": [
    "## SCORE - MLP"
   ],
   "metadata": {
    "collapsed": false
   }
  },
  {
   "cell_type": "code",
   "execution_count": 40,
   "outputs": [
    {
     "name": "stdout",
     "output_type": "stream",
     "text": [
      "Mean Absolute Error: 0.009773214324702417\n",
      "Mean Squared Error: 0.00043480768763531896\n",
      "Root Mean Squared Error: 0.020852042768882837\n",
      "time: 0 ns (started: 2022-12-22 04:05:38 +07:00)\n"
     ]
    }
   ],
   "source": [
    "mae_mlp = metrics.mean_absolute_error(ytest, prediction_mlp)\n",
    "mse_mlp = metrics.mean_squared_error(ytest, prediction_mlp)\n",
    "rmse_mlp = np.sqrt(metrics.mean_squared_error(ytest, prediction_mlp))\n",
    "\n",
    "print('Mean Absolute Error:', metrics.mean_absolute_error(ytest, prediction_mlp))\n",
    "print('Mean Squared Error:', metrics.mean_squared_error(ytest, prediction_mlp))\n",
    "print('Root Mean Squared Error:', np.sqrt(metrics.mean_squared_error(ytest, prediction_mlp)))"
   ],
   "metadata": {
    "collapsed": false
   }
  },
  {
   "cell_type": "markdown",
   "source": [
    "# RANDOM FOREST"
   ],
   "metadata": {
    "collapsed": false
   }
  },
  {
   "cell_type": "code",
   "execution_count": 41,
   "outputs": [
    {
     "data": {
      "text/plain": "RandomForestRegressor(n_estimators=500, n_jobs=4, random_state=42)"
     },
     "execution_count": 41,
     "metadata": {},
     "output_type": "execute_result"
    },
    {
     "name": "stdout",
     "output_type": "stream",
     "text": [
      "time: 4.92 s (started: 2022-12-22 04:05:38 +07:00)\n"
     ]
    }
   ],
   "source": [
    "from sklearn.ensemble import RandomForestRegressor\n",
    "\n",
    "cforest = RandomForestRegressor(n_estimators=500, random_state=42, n_jobs=4)\n",
    "\n",
    "cforest.fit(Xtrain_scaled, ytrain)"
   ],
   "metadata": {
    "collapsed": false
   }
  },
  {
   "cell_type": "markdown",
   "source": [
    "## K-CROSS VALIDATOR - RF"
   ],
   "metadata": {
    "collapsed": false
   }
  },
  {
   "cell_type": "code",
   "execution_count": 42,
   "outputs": [
    {
     "name": "stdout",
     "output_type": "stream",
     "text": [
      "time: 0 ns (started: 2022-12-22 04:05:43 +07:00)\n"
     ]
    }
   ],
   "source": [
    "max_features = ['sqrt', 'auto']\n",
    "max_depth = [int(x) for x in np.linspace(10, 120, num = 12)]\n",
    "min_samples_leaf=[1,3,4]\n",
    "n_estimators=[50,20,50,100]\n",
    "min_samples_split = [2, 6, 10]\n",
    "bootstrap = [True, False]\n",
    "\n",
    "param_grid_rf = dict(max_features = max_features, max_depth = max_depth, min_samples_leaf=min_samples_leaf,n_estimators=n_estimators, min_samples_split=min_samples_split, bootstrap=bootstrap)\n",
    "grid_rf = RandomizedSearchCV(cforest, param_grid_rf, cv = cv, n_iter=200,n_jobs=-1)"
   ],
   "metadata": {
    "collapsed": false
   }
  },
  {
   "cell_type": "code",
   "execution_count": 43,
   "outputs": [
    {
     "data": {
      "text/plain": "RandomizedSearchCV(cv=KFold(n_splits=3, random_state=125, shuffle=True),\n                   estimator=RandomForestRegressor(n_estimators=500, n_jobs=4,\n                                                   random_state=42),\n                   n_iter=200, n_jobs=-1,\n                   param_distributions={'bootstrap': [True, False],\n                                        'max_depth': [10, 20, 30, 40, 50, 60,\n                                                      70, 80, 90, 100, 110,\n                                                      120],\n                                        'max_features': ['sqrt', 'auto'],\n                                        'min_samples_leaf': [1, 3, 4],\n                                        'min_samples_split': [2, 6, 10],\n                                        'n_estimators': [50, 20, 50, 100]})"
     },
     "execution_count": 43,
     "metadata": {},
     "output_type": "execute_result"
    },
    {
     "name": "stdout",
     "output_type": "stream",
     "text": [
      "time: 1min 18s (started: 2022-12-22 04:05:43 +07:00)\n"
     ]
    }
   ],
   "source": [
    "grid_rf.fit(Xtrain_scaled, ytrain)"
   ],
   "metadata": {
    "collapsed": false
   }
  },
  {
   "cell_type": "code",
   "execution_count": 78,
   "outputs": [
    {
     "name": "stdout",
     "output_type": "stream",
     "text": [
      "time: 0 ns (started: 2022-12-22 04:40:14 +07:00)\n"
     ]
    }
   ],
   "source": [
    "n_estimators = grid_rf.best_params_['n_estimators']\n",
    "min_samples_leaf = grid_rf.best_params_['min_samples_leaf']\n",
    "max_features = grid_rf.best_params_['max_features']\n",
    "max_depth = grid_rf.best_params_['max_depth']\n",
    "min_samples_split = grid_rf.best_params_['min_samples_split']\n",
    "bootstrap = grid_rf.best_params_['bootstrap']"
   ],
   "metadata": {
    "collapsed": false
   }
  },
  {
   "cell_type": "code",
   "execution_count": 45,
   "outputs": [
    {
     "data": {
      "text/plain": "RandomForestRegressor(max_depth=80, min_samples_leaf=3, min_samples_split=6)"
     },
     "execution_count": 45,
     "metadata": {},
     "output_type": "execute_result"
    },
    {
     "name": "stdout",
     "output_type": "stream",
     "text": [
      "time: 2.72 s (started: 2022-12-22 04:07:02 +07:00)\n"
     ]
    }
   ],
   "source": [
    "cf_opt = RandomForestRegressor(max_features = max_features, max_depth = max_depth, min_samples_leaf=min_samples_leaf,n_estimators=n_estimators, min_samples_split=min_samples_split, bootstrap=bootstrap)\n",
    "cf_opt.fit(Xtrain_scaled, ytrain)"
   ],
   "metadata": {
    "collapsed": false
   }
  },
  {
   "cell_type": "code",
   "execution_count": 46,
   "outputs": [
    {
     "name": "stdout",
     "output_type": "stream",
     "text": [
      "time: 31 ms (started: 2022-12-22 04:07:04 +07:00)\n"
     ]
    }
   ],
   "source": [
    "prediction_rf = cf_opt.predict(Xtest_scaled)"
   ],
   "metadata": {
    "collapsed": false
   }
  },
  {
   "cell_type": "markdown",
   "source": [
    "## SCORE - RF"
   ],
   "metadata": {
    "collapsed": false
   }
  },
  {
   "cell_type": "code",
   "execution_count": 47,
   "outputs": [
    {
     "name": "stdout",
     "output_type": "stream",
     "text": [
      "Mean Absolute Error: 0.011872050716296665\n",
      "Mean Squared Error: 0.000511242343821799\n",
      "Root Mean Squared Error: 0.02261066880527418\n",
      "time: 0 ns (started: 2022-12-22 04:07:05 +07:00)\n"
     ]
    }
   ],
   "source": [
    "mae_rf = metrics.mean_absolute_error(ytest, prediction_rf)\n",
    "mse_rf = metrics.mean_squared_error(ytest, prediction_rf)\n",
    "rmse_rf = np.sqrt(metrics.mean_squared_error(ytest, prediction_rf))\n",
    "\n",
    "print('Mean Absolute Error:', metrics.mean_absolute_error(ytest, prediction_rf))\n",
    "print('Mean Squared Error:', metrics.mean_squared_error(ytest, prediction_rf))\n",
    "print('Root Mean Squared Error:', np.sqrt(metrics.mean_squared_error(ytest, prediction_rf)))"
   ],
   "metadata": {
    "collapsed": false
   }
  },
  {
   "cell_type": "markdown",
   "source": [
    "# DECISION TREE"
   ],
   "metadata": {
    "collapsed": false
   }
  },
  {
   "cell_type": "code",
   "execution_count": 48,
   "outputs": [
    {
     "data": {
      "text/plain": "DecisionTreeRegressor(max_depth=4, max_features=0.25)"
     },
     "execution_count": 48,
     "metadata": {},
     "output_type": "execute_result"
    },
    {
     "name": "stdout",
     "output_type": "stream",
     "text": [
      "time: 0 ns (started: 2022-12-22 04:07:05 +07:00)\n"
     ]
    }
   ],
   "source": [
    "from sklearn.tree import DecisionTreeRegressor\n",
    "\n",
    "dtree = DecisionTreeRegressor(max_depth=4,min_samples_split=2,min_samples_leaf=1,max_features=0.25)\n",
    "dtree.fit(Xtrain_scaled, ytrain)"
   ],
   "metadata": {
    "collapsed": false
   }
  },
  {
   "cell_type": "markdown",
   "source": [
    "## K-CROSS VALIDATOR - DT"
   ],
   "metadata": {
    "collapsed": false
   }
  },
  {
   "cell_type": "code",
   "execution_count": 49,
   "outputs": [
    {
     "name": "stdout",
     "output_type": "stream",
     "text": [
      "time: 0 ns (started: 2022-12-22 04:07:05 +07:00)\n"
     ]
    }
   ],
   "source": [
    "param_grid_dt = {\"max_depth\" : [1,3,5,7,9,11,12],\n",
    "                 \"min_samples_leaf\":[1,2,3,4,5,6,7,8,9,10],\n",
    "                 \"min_weight_fraction_leaf\":[0.1,0.2,0.3,0.4,0.5,0.6,0.7,0.8,0.9],\n",
    "                 \"max_features\":[\"auto\",\"log2\",\"sqrt\",None],\n",
    "                 \"max_leaf_nodes\":[None,10,20,30,40,50,60,70,80,90]}\n",
    "grid_dt = RandomizedSearchCV(dtree, param_grid_dt, cv = cv, n_iter=200,n_jobs=-1)"
   ],
   "metadata": {
    "collapsed": false
   }
  },
  {
   "cell_type": "code",
   "execution_count": 50,
   "outputs": [
    {
     "data": {
      "text/plain": "RandomizedSearchCV(cv=KFold(n_splits=3, random_state=125, shuffle=True),\n                   estimator=DecisionTreeRegressor(max_depth=4,\n                                                   max_features=0.25),\n                   n_iter=200, n_jobs=-1,\n                   param_distributions={'max_depth': [1, 3, 5, 7, 9, 11, 12],\n                                        'max_features': ['auto', 'log2', 'sqrt',\n                                                         None],\n                                        'max_leaf_nodes': [None, 10, 20, 30, 40,\n                                                           50, 60, 70, 80, 90],\n                                        'min_samples_leaf': [1, 2, 3, 4, 5, 6,\n                                                             7, 8, 9, 10],\n                                        'min_weight_fraction_leaf': [0.1, 0.2,\n                                                                     0.3, 0.4,\n                                                                     0.5, 0.6,\n                                                                     0.7, 0.8,\n                                                                     0.9]})"
     },
     "execution_count": 50,
     "metadata": {},
     "output_type": "execute_result"
    },
    {
     "name": "stdout",
     "output_type": "stream",
     "text": [
      "time: 532 ms (started: 2022-12-22 04:07:05 +07:00)\n"
     ]
    }
   ],
   "source": [
    "grid_dt.fit(Xtrain_scaled, ytrain)"
   ],
   "metadata": {
    "collapsed": false
   }
  },
  {
   "cell_type": "code",
   "execution_count": 51,
   "outputs": [
    {
     "name": "stdout",
     "output_type": "stream",
     "text": [
      "time: 0 ns (started: 2022-12-22 04:07:05 +07:00)\n"
     ]
    }
   ],
   "source": [
    "min_samples_leaf = grid_dt.best_params_['min_samples_leaf']\n",
    "max_features = grid_dt.best_params_['max_features']\n",
    "max_depth = grid_dt.best_params_['max_depth']\n",
    "min_weight_fraction_leaf = grid_dt.best_params_['min_weight_fraction_leaf']\n",
    "max_leaf_nodes = grid_dt.best_params_['max_leaf_nodes']"
   ],
   "metadata": {
    "collapsed": false
   }
  },
  {
   "cell_type": "code",
   "execution_count": 52,
   "outputs": [
    {
     "data": {
      "text/plain": "RandomForestRegressor(max_depth=11, max_features=None, max_leaf_nodes=40,\n                      min_samples_leaf=3, min_weight_fraction_leaf=0.1)"
     },
     "execution_count": 52,
     "metadata": {},
     "output_type": "execute_result"
    },
    {
     "name": "stdout",
     "output_type": "stream",
     "text": [
      "time: 984 ms (started: 2022-12-22 04:07:05 +07:00)\n"
     ]
    }
   ],
   "source": [
    "dt_opt = RandomForestRegressor(min_samples_leaf=min_samples_leaf, max_features=max_features,\n",
    "                                max_depth=max_depth, min_weight_fraction_leaf=min_weight_fraction_leaf, max_leaf_nodes=max_leaf_nodes)\n",
    "dt_opt.fit(Xtrain_scaled, ytrain)"
   ],
   "metadata": {
    "collapsed": false
   }
  },
  {
   "cell_type": "code",
   "execution_count": 53,
   "outputs": [
    {
     "name": "stdout",
     "output_type": "stream",
     "text": [
      "time: 16 ms (started: 2022-12-22 04:07:06 +07:00)\n"
     ]
    }
   ],
   "source": [
    "prediction_dt = dt_opt.predict(Xtest_scaled)"
   ],
   "metadata": {
    "collapsed": false
   }
  },
  {
   "cell_type": "markdown",
   "source": [
    "## SCORE - DT"
   ],
   "metadata": {
    "collapsed": false
   }
  },
  {
   "cell_type": "code",
   "execution_count": 54,
   "outputs": [
    {
     "name": "stdout",
     "output_type": "stream",
     "text": [
      "Mean Absolute Error: 0.0221076378239343\n",
      "Mean Squared Error: 0.0010055458766292595\n",
      "Root Mean Squared Error: 0.031710343369778564\n",
      "time: 0 ns (started: 2022-12-22 04:07:06 +07:00)\n"
     ]
    }
   ],
   "source": [
    "mae_dt = metrics.mean_absolute_error(ytest, prediction_dt)\n",
    "mse_dt = metrics.mean_squared_error(ytest, prediction_dt)\n",
    "rmse_dt = np.sqrt(metrics.mean_squared_error(ytest, prediction_dt))\n",
    "\n",
    "print('Mean Absolute Error:', metrics.mean_absolute_error(ytest, prediction_dt))\n",
    "print('Mean Squared Error:', metrics.mean_squared_error(ytest, prediction_dt))\n",
    "print('Root Mean Squared Error:', np.sqrt(metrics.mean_squared_error(ytest, prediction_dt)))"
   ],
   "metadata": {
    "collapsed": false
   }
  },
  {
   "cell_type": "markdown",
   "source": [
    "# XG BOOST"
   ],
   "metadata": {
    "collapsed": false
   }
  },
  {
   "cell_type": "code",
   "execution_count": 55,
   "outputs": [
    {
     "data": {
      "text/plain": "GradientBoostingRegressor(learning_rate=0.05, max_features=0.1,\n                          n_estimators=500, random_state=100)"
     },
     "execution_count": 55,
     "metadata": {},
     "output_type": "execute_result"
    },
    {
     "name": "stdout",
     "output_type": "stream",
     "text": [
      "time: 1.17 s (started: 2022-12-22 04:07:06 +07:00)\n"
     ]
    }
   ],
   "source": [
    "from sklearn.ensemble import GradientBoostingRegressor\n",
    "\n",
    "xgb = GradientBoostingRegressor(n_estimators=500,learning_rate=0.05,random_state=100,max_features=0.1)\n",
    "xgb.fit(Xtrain_scaled,ytrain)"
   ],
   "metadata": {
    "collapsed": false
   }
  },
  {
   "cell_type": "markdown",
   "source": [
    "## K-CROSS VALIDATOR - XG BOOST"
   ],
   "metadata": {
    "collapsed": false
   }
  },
  {
   "cell_type": "code",
   "execution_count": 56,
   "outputs": [
    {
     "name": "stdout",
     "output_type": "stream",
     "text": [
      "time: 0 ns (started: 2022-12-22 04:07:07 +07:00)\n"
     ]
    }
   ],
   "source": [
    "from sklearn.model_selection import GridSearchCV\n",
    "\n",
    "param_grid_xgb = {'n_estimators': np.arange(100, 500, 100), 'learning_rate': [0.01, 0.05, 0.1],\n",
    "                  'max_depth': [2, 3, 4, 5, 6, 7], 'max_features': [0.1, 0.5, 1]}\n",
    "grid_xgb = GridSearchCV(xgb, param_grid_xgb, cv=cv, n_jobs=-1)"
   ],
   "metadata": {
    "collapsed": false
   }
  },
  {
   "cell_type": "code",
   "execution_count": 57,
   "outputs": [
    {
     "data": {
      "text/plain": "GridSearchCV(cv=KFold(n_splits=3, random_state=125, shuffle=True),\n             estimator=GradientBoostingRegressor(learning_rate=0.05,\n                                                 max_features=0.1,\n                                                 n_estimators=500,\n                                                 random_state=100),\n             n_jobs=-1,\n             param_grid={'learning_rate': [0.01, 0.05, 0.1],\n                         'max_depth': [2, 3, 4, 5, 6, 7],\n                         'max_features': [0.1, 0.5, 1],\n                         'n_estimators': array([100, 200, 300, 400])})"
     },
     "execution_count": 57,
     "metadata": {},
     "output_type": "execute_result"
    },
    {
     "name": "stdout",
     "output_type": "stream",
     "text": [
      "time: 1min 31s (started: 2022-12-22 04:07:07 +07:00)\n"
     ]
    }
   ],
   "source": [
    "grid_xgb.fit(Xtrain_scaled, ytrain)"
   ],
   "metadata": {
    "collapsed": false
   }
  },
  {
   "cell_type": "code",
   "execution_count": 58,
   "outputs": [
    {
     "name": "stdout",
     "output_type": "stream",
     "text": [
      "time: 0 ns (started: 2022-12-22 04:08:39 +07:00)\n"
     ]
    }
   ],
   "source": [
    "learning_rate = grid_xgb.best_params_['learning_rate']\n",
    "max_depth = grid_xgb.best_params_['max_depth']\n",
    "n_estimators = grid_xgb.best_params_['n_estimators']\n",
    "max_features = grid_xgb.best_params_['max_features']"
   ],
   "metadata": {
    "collapsed": false
   }
  },
  {
   "cell_type": "code",
   "execution_count": 59,
   "outputs": [
    {
     "data": {
      "text/plain": "GradientBoostingRegressor(learning_rate=0.05, max_depth=7, max_features=0.5,\n                          n_estimators=400, random_state=100)"
     },
     "execution_count": 59,
     "metadata": {},
     "output_type": "execute_result"
    },
    {
     "name": "stdout",
     "output_type": "stream",
     "text": [
      "time: 5.89 s (started: 2022-12-22 04:08:39 +07:00)\n"
     ]
    }
   ],
   "source": [
    "xgb_opt = GradientBoostingRegressor(n_estimators=n_estimators,learning_rate=learning_rate,random_state=100,max_features=max_features, max_depth=max_depth)\n",
    "xgb_opt.fit(Xtrain_scaled, ytrain)"
   ],
   "metadata": {
    "collapsed": false
   }
  },
  {
   "cell_type": "code",
   "execution_count": 60,
   "outputs": [
    {
     "name": "stdout",
     "output_type": "stream",
     "text": [
      "time: 32 ms (started: 2022-12-22 04:08:45 +07:00)\n"
     ]
    }
   ],
   "source": [
    "prediction_xgb = xgb_opt.predict(Xtest_scaled)"
   ],
   "metadata": {
    "collapsed": false
   }
  },
  {
   "cell_type": "markdown",
   "source": [
    "## SCORE - XG BOOST"
   ],
   "metadata": {
    "collapsed": false
   }
  },
  {
   "cell_type": "code",
   "execution_count": 61,
   "outputs": [
    {
     "name": "stdout",
     "output_type": "stream",
     "text": [
      "Mean Absolute Error: 0.010061290439431957\n",
      "Mean Squared Error: 0.00047209819665295873\n",
      "Root Mean Squared Error: 0.021727820798528294\n",
      "time: 0 ns (started: 2022-12-22 04:08:45 +07:00)\n"
     ]
    }
   ],
   "source": [
    "mae_xgb = metrics.mean_absolute_error(ytest, prediction_xgb)\n",
    "mse_xgb = metrics.mean_squared_error(ytest, prediction_xgb)\n",
    "rmse_xgb = np.sqrt(metrics.mean_squared_error(ytest, prediction_xgb))\n",
    "\n",
    "print('Mean Absolute Error:', metrics.mean_absolute_error(ytest, prediction_xgb))\n",
    "print('Mean Squared Error:', metrics.mean_squared_error(ytest, prediction_xgb))\n",
    "print('Root Mean Squared Error:', np.sqrt(metrics.mean_squared_error(ytest, prediction_xgb)))"
   ],
   "metadata": {
    "collapsed": false
   }
  },
  {
   "cell_type": "markdown",
   "source": [
    "# K-NEAREST NEIGHBOR"
   ],
   "metadata": {
    "collapsed": false
   }
  },
  {
   "cell_type": "code",
   "execution_count": 62,
   "outputs": [
    {
     "data": {
      "text/plain": "KNeighborsRegressor()"
     },
     "execution_count": 62,
     "metadata": {},
     "output_type": "execute_result"
    },
    {
     "name": "stdout",
     "output_type": "stream",
     "text": [
      "time: 16 ms (started: 2022-12-22 04:08:45 +07:00)\n"
     ]
    }
   ],
   "source": [
    "from sklearn.neighbors import KNeighborsRegressor\n",
    "\n",
    "knn = KNeighborsRegressor(n_neighbors = 5, metric = 'minkowski', p = 2)\n",
    "knn.fit(Xtrain_scaled, ytrain)"
   ],
   "metadata": {
    "collapsed": false
   }
  },
  {
   "cell_type": "markdown",
   "source": [
    "## K-CROSS VALIDATOR - KNN"
   ],
   "metadata": {
    "collapsed": false
   }
  },
  {
   "cell_type": "code",
   "execution_count": 63,
   "outputs": [
    {
     "name": "stdout",
     "output_type": "stream",
     "text": [
      "time: 0 ns (started: 2022-12-22 04:08:45 +07:00)\n"
     ]
    }
   ],
   "source": [
    "param_grid_knn = {'n_neighbors': [5, 10, 15, 20, 25], 'p': [1, 2], 'leaf_size': [30, 40, 50]}\n",
    "grid_knn = GridSearchCV(knn, param_grid_knn, cv=cv, n_jobs=-1)"
   ],
   "metadata": {
    "collapsed": false
   }
  },
  {
   "cell_type": "code",
   "execution_count": 64,
   "outputs": [
    {
     "data": {
      "text/plain": "GridSearchCV(cv=KFold(n_splits=3, random_state=125, shuffle=True),\n             estimator=KNeighborsRegressor(), n_jobs=-1,\n             param_grid={'leaf_size': [30, 40, 50],\n                         'n_neighbors': [5, 10, 15, 20, 25], 'p': [1, 2]})"
     },
     "execution_count": 64,
     "metadata": {},
     "output_type": "execute_result"
    },
    {
     "name": "stdout",
     "output_type": "stream",
     "text": [
      "time: 1.78 s (started: 2022-12-22 04:08:45 +07:00)\n"
     ]
    }
   ],
   "source": [
    "grid_knn.fit(Xtrain_scaled, ytrain)"
   ],
   "metadata": {
    "collapsed": false
   }
  },
  {
   "cell_type": "code",
   "execution_count": 82,
   "outputs": [
    {
     "name": "stdout",
     "output_type": "stream",
     "text": [
      "time: 0 ns (started: 2022-12-22 04:43:08 +07:00)\n"
     ]
    }
   ],
   "source": [
    "n_neighbors = grid_knn.best_params_['n_neighbors']\n",
    "p = grid_knn.best_params_['p']\n",
    "leaf_size = grid_knn.best_params_['leaf_size']"
   ],
   "metadata": {
    "collapsed": false
   }
  },
  {
   "cell_type": "code",
   "execution_count": 66,
   "outputs": [
    {
     "data": {
      "text/plain": "KNeighborsRegressor(n_neighbors=10)"
     },
     "execution_count": 66,
     "metadata": {},
     "output_type": "execute_result"
    },
    {
     "name": "stdout",
     "output_type": "stream",
     "text": [
      "time: 16 ms (started: 2022-12-22 04:08:47 +07:00)\n"
     ]
    }
   ],
   "source": [
    "knn_opt = KNeighborsRegressor(n_neighbors=n_neighbors, p=p, leaf_size=leaf_size)\n",
    "knn_opt.fit(Xtrain_scaled, ytrain)"
   ],
   "metadata": {
    "collapsed": false
   }
  },
  {
   "cell_type": "code",
   "execution_count": 67,
   "outputs": [
    {
     "name": "stdout",
     "output_type": "stream",
     "text": [
      "time: 109 ms (started: 2022-12-22 04:08:47 +07:00)\n"
     ]
    }
   ],
   "source": [
    "prediction_knn = knn_opt.predict(Xtest_scaled)"
   ],
   "metadata": {
    "collapsed": false
   }
  },
  {
   "cell_type": "markdown",
   "source": [
    "## SCORE - KNN"
   ],
   "metadata": {
    "collapsed": false
   }
  },
  {
   "cell_type": "code",
   "execution_count": 68,
   "outputs": [
    {
     "name": "stdout",
     "output_type": "stream",
     "text": [
      "Mean Absolute Error: 0.012918394869801788\n",
      "Mean Squared Error: 0.0005565176361057131\n",
      "Root Mean Squared Error: 0.02359062602191203\n",
      "time: 0 ns (started: 2022-12-22 04:08:47 +07:00)\n"
     ]
    }
   ],
   "source": [
    "mae_knn = metrics.mean_absolute_error(ytest, prediction_knn)\n",
    "mse_knn = metrics.mean_squared_error(ytest, prediction_knn)\n",
    "rmse_knn = np.sqrt(metrics.mean_squared_error(ytest, prediction_knn))\n",
    "\n",
    "print('Mean Absolute Error:', metrics.mean_absolute_error(ytest, prediction_knn))\n",
    "print('Mean Squared Error:', metrics.mean_squared_error(ytest, prediction_knn))\n",
    "print('Root Mean Squared Error:', np.sqrt(metrics.mean_squared_error(ytest, prediction_knn)))"
   ],
   "metadata": {
    "collapsed": false
   }
  },
  {
   "cell_type": "markdown",
   "source": [
    "# DATA OUTPUT"
   ],
   "metadata": {
    "collapsed": false
   }
  },
  {
   "cell_type": "code",
   "execution_count": 69,
   "outputs": [
    {
     "name": "stdout",
     "output_type": "stream",
     "text": [
      "time: 1.31 s (started: 2022-12-22 04:08:47 +07:00)\n"
     ]
    }
   ],
   "source": [
    "from openpyxl import load_workbook\n",
    "\n",
    "df2 = pd.read_csv(\"generated_dataset.csv\")\n",
    "\n",
    "en_features = en_opt.predict(pca.transform(scaler.transform(features)))\n",
    "mlp_features = mlp_opt.predict(pca.transform(scaler.transform(features)))\n",
    "rf_features = cf_opt.predict(pca.transform(scaler.transform(features)))\n",
    "dt_features = dt_opt.predict(pca.transform(scaler.transform(features)))\n",
    "xgb_features = xgb_opt.predict(pca.transform(scaler.transform(features)))\n",
    "knn_features = knn_opt.predict(pca.transform(scaler.transform(features)))\n",
    "\n",
    "df2['EN Prediction'] = en_features\n",
    "df2['MLP Prediction'] = mlp_features\n",
    "df2['RF Prediction'] = rf_features\n",
    "df2['DT Prediction'] = dt_features\n",
    "df2['XGB Prediction'] = xgb_features\n",
    "df2['KNN Prediction'] = knn_features"
   ],
   "metadata": {
    "collapsed": false
   }
  },
  {
   "cell_type": "code",
   "execution_count": 70,
   "outputs": [
    {
     "name": "stdout",
     "output_type": "stream",
     "text": [
      "time: 0 ns (started: 2022-12-22 04:08:49 +07:00)\n"
     ]
    }
   ],
   "source": [
    "mae = [mae_en, mae_mlp, mae_rf, mae_dt, mae_xgb, mae_knn]\n",
    "mse = [mse_en, mse_mlp, mse_rf, mse_dt, mse_xgb, mse_knn]\n",
    "rmse = [rmse_en, rmse_mlp, rmse_rf, rmse_dt, rmse_xgb, rmse_knn]\n",
    "regressor = ['EN', 'MLP', 'RF', 'DT', 'XGB', 'KNN']\n",
    "\n",
    "df3 = pd.DataFrame(list(zip(regressor, mae, mse, rmse)), columns = ['Regressor', 'MAE', 'MSE', 'RMSE'])"
   ],
   "metadata": {
    "collapsed": false
   }
  },
  {
   "cell_type": "code",
   "execution_count": 71,
   "outputs": [
    {
     "name": "stdout",
     "output_type": "stream",
     "text": [
      "time: 6.08 s (started: 2022-12-22 04:08:49 +07:00)\n"
     ]
    }
   ],
   "source": [
    "ExcelWorkbook = load_workbook('CR Prediction.xlsx')\n",
    "writer = pd.ExcelWriter('CR Prediction.xlsx', engine = 'openpyxl')\n",
    "writer.book = ExcelWorkbook\n",
    "\n",
    "df2.to_excel(writer, sheet_name = 'Regression Approach')\n",
    "df3.to_excel(writer, sheet_name = 'Regression Score')\n",
    "\n",
    "writer.close()"
   ],
   "metadata": {
    "collapsed": false
   }
  }
 ],
 "metadata": {
  "kernelspec": {
   "display_name": "Python 3",
   "language": "python",
   "name": "python3"
  },
  "language_info": {
   "codemirror_mode": {
    "name": "ipython",
    "version": 2
   },
   "file_extension": ".py",
   "mimetype": "text/x-python",
   "name": "python",
   "nbconvert_exporter": "python",
   "pygments_lexer": "ipython2",
   "version": "2.7.6"
  }
 },
 "nbformat": 4,
 "nbformat_minor": 0
}
